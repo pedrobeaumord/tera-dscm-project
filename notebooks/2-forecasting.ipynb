{
 "cells": [
  {
   "cell_type": "markdown",
   "metadata": {},
   "source": [
    "# Projeto Final - Tera - Data Science\n",
    "Notebooks destinados ao desenvolvimento do projeto final do treinamento Tera - Data Science\n",
    "## Forecasting\n",
    "1. Objetivo:\n",
    "    1. Prever o desempenho do faturamento por loja para definição do baseline\n",
    "2. Output:\n",
    "    1. DataSet com as previsões de faturamento por loja"
   ]
  },
  {
   "cell_type": "code",
   "execution_count": 1,
   "metadata": {},
   "outputs": [],
   "source": [
    "# Bibliotecas Padrões\n",
    "import pandas as pd\n",
    "import numpy as np\n",
    "import matplotlib.pyplot as plt\n",
    "import seaborn as sns\n",
    "import datetime\n",
    "from sklearn.metrics import mean_squared_error, mean_absolute_error, r2_score\n",
    "from sklearn.linear_model import LinearRegression\n",
    "\n",
    "import warnings\n",
    "warnings.filterwarnings('ignore')"
   ]
  },
  {
   "cell_type": "code",
   "execution_count": 2,
   "metadata": {},
   "outputs": [
    {
     "data": {
      "text/html": [
       "<div>\n",
       "<style scoped>\n",
       "    .dataframe tbody tr th:only-of-type {\n",
       "        vertical-align: middle;\n",
       "    }\n",
       "\n",
       "    .dataframe tbody tr th {\n",
       "        vertical-align: top;\n",
       "    }\n",
       "\n",
       "    .dataframe thead th {\n",
       "        text-align: right;\n",
       "    }\n",
       "</style>\n",
       "<table border=\"1\" class=\"dataframe\">\n",
       "  <thead>\n",
       "    <tr style=\"text-align: right;\">\n",
       "      <th></th>\n",
       "      <th>Date</th>\n",
       "      <th>IsHoliday</th>\n",
       "      <th>Store</th>\n",
       "      <th>Size</th>\n",
       "      <th>Dept</th>\n",
       "      <th>MarkDown5</th>\n",
       "      <th>Weekly_Sales</th>\n",
       "    </tr>\n",
       "  </thead>\n",
       "  <tbody>\n",
       "    <tr>\n",
       "      <th>0</th>\n",
       "      <td>2010-02-05</td>\n",
       "      <td>0</td>\n",
       "      <td>1</td>\n",
       "      <td>151315</td>\n",
       "      <td>1</td>\n",
       "      <td>0.00</td>\n",
       "      <td>24924.50</td>\n",
       "    </tr>\n",
       "    <tr>\n",
       "      <th>1</th>\n",
       "      <td>2010-02-05</td>\n",
       "      <td>0</td>\n",
       "      <td>1</td>\n",
       "      <td>151315</td>\n",
       "      <td>2</td>\n",
       "      <td>0.00</td>\n",
       "      <td>50605.27</td>\n",
       "    </tr>\n",
       "    <tr>\n",
       "      <th>2</th>\n",
       "      <td>2010-02-05</td>\n",
       "      <td>0</td>\n",
       "      <td>1</td>\n",
       "      <td>151315</td>\n",
       "      <td>3</td>\n",
       "      <td>0.00</td>\n",
       "      <td>13740.12</td>\n",
       "    </tr>\n",
       "    <tr>\n",
       "      <th>3</th>\n",
       "      <td>2010-02-05</td>\n",
       "      <td>0</td>\n",
       "      <td>1</td>\n",
       "      <td>151315</td>\n",
       "      <td>4</td>\n",
       "      <td>0.00</td>\n",
       "      <td>39954.04</td>\n",
       "    </tr>\n",
       "    <tr>\n",
       "      <th>4</th>\n",
       "      <td>2010-02-05</td>\n",
       "      <td>0</td>\n",
       "      <td>1</td>\n",
       "      <td>151315</td>\n",
       "      <td>5</td>\n",
       "      <td>0.00</td>\n",
       "      <td>32229.38</td>\n",
       "    </tr>\n",
       "    <tr>\n",
       "      <th>...</th>\n",
       "      <td>...</td>\n",
       "      <td>...</td>\n",
       "      <td>...</td>\n",
       "      <td>...</td>\n",
       "      <td>...</td>\n",
       "      <td>...</td>\n",
       "      <td>...</td>\n",
       "    </tr>\n",
       "    <tr>\n",
       "      <th>421565</th>\n",
       "      <td>2012-10-26</td>\n",
       "      <td>0</td>\n",
       "      <td>45</td>\n",
       "      <td>118221</td>\n",
       "      <td>93</td>\n",
       "      <td>858.33</td>\n",
       "      <td>2487.80</td>\n",
       "    </tr>\n",
       "    <tr>\n",
       "      <th>421566</th>\n",
       "      <td>2012-10-26</td>\n",
       "      <td>0</td>\n",
       "      <td>45</td>\n",
       "      <td>118221</td>\n",
       "      <td>94</td>\n",
       "      <td>858.33</td>\n",
       "      <td>5203.31</td>\n",
       "    </tr>\n",
       "    <tr>\n",
       "      <th>421567</th>\n",
       "      <td>2012-10-26</td>\n",
       "      <td>0</td>\n",
       "      <td>45</td>\n",
       "      <td>118221</td>\n",
       "      <td>95</td>\n",
       "      <td>858.33</td>\n",
       "      <td>56017.47</td>\n",
       "    </tr>\n",
       "    <tr>\n",
       "      <th>421568</th>\n",
       "      <td>2012-10-26</td>\n",
       "      <td>0</td>\n",
       "      <td>45</td>\n",
       "      <td>118221</td>\n",
       "      <td>97</td>\n",
       "      <td>858.33</td>\n",
       "      <td>6817.48</td>\n",
       "    </tr>\n",
       "    <tr>\n",
       "      <th>421569</th>\n",
       "      <td>2012-10-26</td>\n",
       "      <td>0</td>\n",
       "      <td>45</td>\n",
       "      <td>118221</td>\n",
       "      <td>98</td>\n",
       "      <td>858.33</td>\n",
       "      <td>1076.80</td>\n",
       "    </tr>\n",
       "  </tbody>\n",
       "</table>\n",
       "<p>421570 rows × 7 columns</p>\n",
       "</div>"
      ],
      "text/plain": [
       "             Date  IsHoliday  Store    Size  Dept  MarkDown5  Weekly_Sales\n",
       "0      2010-02-05          0      1  151315     1       0.00      24924.50\n",
       "1      2010-02-05          0      1  151315     2       0.00      50605.27\n",
       "2      2010-02-05          0      1  151315     3       0.00      13740.12\n",
       "3      2010-02-05          0      1  151315     4       0.00      39954.04\n",
       "4      2010-02-05          0      1  151315     5       0.00      32229.38\n",
       "...           ...        ...    ...     ...   ...        ...           ...\n",
       "421565 2012-10-26          0     45  118221    93     858.33       2487.80\n",
       "421566 2012-10-26          0     45  118221    94     858.33       5203.31\n",
       "421567 2012-10-26          0     45  118221    95     858.33      56017.47\n",
       "421568 2012-10-26          0     45  118221    97     858.33       6817.48\n",
       "421569 2012-10-26          0     45  118221    98     858.33       1076.80\n",
       "\n",
       "[421570 rows x 7 columns]"
      ]
     },
     "execution_count": 2,
     "metadata": {},
     "output_type": "execute_result"
    }
   ],
   "source": [
    "# Lendo df em csv\n",
    "df_model = pd.read_csv('../data/df_model.csv', sep=';')\n",
    "\n",
    "# Transformando coluna de data\n",
    "df_model.Date = pd.to_datetime(df_model.Date)\n",
    "\n",
    "# Display\n",
    "df_model"
   ]
  },
  {
   "cell_type": "code",
   "execution_count": 3,
   "metadata": {},
   "outputs": [],
   "source": [
    "# Create date feature based on trignometry circle\n",
    "from datetime import datetime\n",
    "import math as m\n",
    "\n",
    "df_model['day_of_year'] = df_model.apply(lambda row: row['Date'].timetuple().tm_yday, axis=1)\n",
    "\n",
    "angle_by_day = 360/365.25\n",
    "radius = 1 # valeur x et y entre -1 et 1\n",
    "rad_convert = m.pi/180\n",
    "\n",
    "df_model['day_circle_x'] = radius *  np.cos(angle_by_day * df_model['day_of_year'] * rad_convert)\n",
    "df_model['day_circle_y'] = radius *  np.sin(angle_by_day * df_model['day_of_year'] * rad_convert)"
   ]
  },
  {
   "cell_type": "code",
   "execution_count": 4,
   "metadata": {},
   "outputs": [],
   "source": [
    "# Create basic date features with seasonality\n",
    "df_model['Month'] = df_model.Date.dt.month\n",
    "df_model['Week'] = df_model.Date.dt.weekofyear"
   ]
  },
  {
   "cell_type": "code",
   "execution_count": 5,
   "metadata": {},
   "outputs": [],
   "source": [
    "# Splitting train & test samples\n",
    "df_train = df_model[df_model.Date < '2012-01-01']\n",
    "df_test = df_model[df_model.Date >= '2012-01-01']"
   ]
  },
  {
   "cell_type": "code",
   "execution_count": 6,
   "metadata": {},
   "outputs": [],
   "source": [
    "X_train = df_train[['day_of_year', 'IsHoliday', 'Store', 'Size', 'Dept', 'MarkDown5']]\n",
    "y_train = df_train.Weekly_Sales"
   ]
  },
  {
   "cell_type": "code",
   "execution_count": 7,
   "metadata": {},
   "outputs": [],
   "source": [
    "X_test = df_test[['day_of_year', 'IsHoliday', 'Store', 'Size', 'Dept', 'MarkDown5']]\n",
    "y_test = df_test.Weekly_Sales"
   ]
  },
  {
   "cell_type": "markdown",
   "metadata": {},
   "source": [
    "#### Regressão Linear"
   ]
  },
  {
   "cell_type": "code",
   "execution_count": 8,
   "metadata": {},
   "outputs": [],
   "source": [
    "reg = LinearRegression().fit(X_train, y_train)"
   ]
  },
  {
   "cell_type": "code",
   "execution_count": 9,
   "metadata": {},
   "outputs": [
    {
     "data": {
      "text/plain": [
       "0.08262680113833731"
      ]
     },
     "execution_count": 9,
     "metadata": {},
     "output_type": "execute_result"
    }
   ],
   "source": [
    "reg.score(X_train, y_train)"
   ]
  },
  {
   "cell_type": "code",
   "execution_count": 10,
   "metadata": {},
   "outputs": [],
   "source": [
    "y_pred = reg.predict(X_test)"
   ]
  },
  {
   "cell_type": "code",
   "execution_count": 11,
   "metadata": {},
   "outputs": [],
   "source": [
    "df_test['Weekly_Sales_Pred'] = y_pred"
   ]
  },
  {
   "cell_type": "code",
   "execution_count": 12,
   "metadata": {},
   "outputs": [],
   "source": [
    "df_plot = df_test[['Date', 'Weekly_Sales', 'Weekly_Sales_Pred']].groupby(['Date']).sum().reset_index()"
   ]
  },
  {
   "cell_type": "code",
   "execution_count": 13,
   "metadata": {},
   "outputs": [
    {
     "data": {
      "image/png": "[encoded data removed]",
      "text/plain": [
       "<Figure size 1600x1000 with 1 Axes>"
      ]
     },
     "metadata": {},
     "output_type": "display_data"
    }
   ],
   "source": [
    "# Plot predict e verdadeiro\n",
    "plt.figure(figsize=(16,10))\n",
    "plt.ylim(30000000, 60000000)\n",
    "\n",
    "plt.plot(df_plot.Date, df_plot.Weekly_Sales, label = \"Actual\")\n",
    "plt.plot(df_plot.Date, df_plot.Weekly_Sales_Pred, label = \"Predicted\")\n",
    "\n",
    "plt.legend()\n",
    "plt.show()"
   ]
  },
  {
   "cell_type": "code",
   "execution_count": 14,
   "metadata": {},
   "outputs": [
    {
     "data": {
      "text/plain": [
       "0.08871628570929424"
      ]
     },
     "execution_count": 14,
     "metadata": {},
     "output_type": "execute_result"
    }
   ],
   "source": [
    "r2_score(y_true=df_test['Weekly_Sales'],\n",
    "                   y_pred=df_test['Weekly_Sales_Pred'])"
   ]
  },
  {
   "cell_type": "code",
   "execution_count": 15,
   "metadata": {},
   "outputs": [
    {
     "data": {
      "text/plain": [
       "14565.518845941704"
      ]
     },
     "execution_count": 15,
     "metadata": {},
     "output_type": "execute_result"
    }
   ],
   "source": [
    "mean_absolute_error(y_true=df_test['Weekly_Sales'],\n",
    "                   y_pred=df_test['Weekly_Sales_Pred'])"
   ]
  },
  {
   "cell_type": "code",
   "execution_count": 16,
   "metadata": {},
   "outputs": [
    {
     "data": {
      "text/plain": [
       "445904419.0314551"
      ]
     },
     "execution_count": 16,
     "metadata": {},
     "output_type": "execute_result"
    }
   ],
   "source": [
    "mean_squared_error(y_true=df_test['Weekly_Sales'],\n",
    "                   y_pred=df_test['Weekly_Sales_Pred'])"
   ]
  },
  {
   "cell_type": "markdown",
   "metadata": {},
   "source": [
    "------------------------------------------------------------------------------"
   ]
  },
  {
   "cell_type": "markdown",
   "metadata": {},
   "source": [
    "### Modelo SVM (Não Linear)"
   ]
  },
  {
   "cell_type": "code",
   "execution_count": 17,
   "metadata": {},
   "outputs": [],
   "source": [
    "from sklearn.svm import LinearSVR\n",
    "from sklearn.pipeline import make_pipeline\n",
    "from sklearn.preprocessing import StandardScaler"
   ]
  },
  {
   "cell_type": "code",
   "execution_count": 18,
   "metadata": {},
   "outputs": [],
   "source": [
    "X_train = df_train[['day_circle_x', 'day_circle_y', 'IsHoliday', 'Store', 'Size', 'Dept', 'MarkDown5']]\n",
    "y_train = df_train.Weekly_Sales\n",
    "\n",
    "X_test = df_test[['day_circle_x', 'day_circle_y', 'IsHoliday', 'Store', 'Size', 'Dept', 'MarkDown5']]\n",
    "y_test = df_test.Weekly_Sales"
   ]
  },
  {
   "cell_type": "code",
   "execution_count": 19,
   "metadata": {},
   "outputs": [],
   "source": [
    "# Criando pipeline com standard scale\n",
    "clf = make_pipeline(StandardScaler(), LinearSVR(random_state=0, tol=1e-5))\n",
    "\n",
    "# Fit inicial do modelo da parcela do treino\n",
    "clf = clf.fit(X_train, y_train)\n",
    "\n",
    "# Prevendo vendas\n",
    "y_pred = clf.predict(X_test)"
   ]
  },
  {
   "cell_type": "code",
   "execution_count": 20,
   "metadata": {},
   "outputs": [
    {
     "data": {
      "image/png": "[encoded data removed]",
      "text/plain": [
       "<Figure size 1600x1000 with 1 Axes>"
      ]
     },
     "metadata": {},
     "output_type": "display_data"
    }
   ],
   "source": [
    "# PLottando resultados\n",
    "df_test['Weekly_Sales_Pred'] = y_pred\n",
    "df_plot = df_test[['Date', 'Weekly_Sales', 'Weekly_Sales_Pred']].groupby(['Date']).sum().reset_index()\n",
    "\n",
    "# Plot predict e verdadeiro\n",
    "plt.figure(figsize=(16,10))\n",
    "plt.ylim(10000000, 60000000)\n",
    "\n",
    "plt.plot(df_plot.Date, df_plot.Weekly_Sales, label = \"Actual\")\n",
    "plt.plot(df_plot.Date, df_plot.Weekly_Sales_Pred, label = \"Predicted\")\n",
    "\n",
    "plt.legend()\n",
    "plt.show()"
   ]
  },
  {
   "cell_type": "code",
   "execution_count": 21,
   "metadata": {},
   "outputs": [
    {
     "data": {
      "text/plain": [
       "-0.0763413816524805"
      ]
     },
     "execution_count": 21,
     "metadata": {},
     "output_type": "execute_result"
    }
   ],
   "source": [
    "clf.score(X_train, y_train)"
   ]
  },
  {
   "cell_type": "markdown",
   "metadata": {},
   "source": [
    "-----------------------------------------"
   ]
  },
  {
   "cell_type": "markdown",
   "metadata": {},
   "source": [
    "### SGD Regressor"
   ]
  },
  {
   "cell_type": "code",
   "execution_count": 22,
   "metadata": {},
   "outputs": [],
   "source": [
    "from sklearn.linear_model import SGDRegressor"
   ]
  },
  {
   "cell_type": "code",
   "execution_count": 23,
   "metadata": {},
   "outputs": [],
   "source": [
    "# Declarando regressor\n",
    "reg = make_pipeline(StandardScaler(), SGDRegressor(max_iter=1000, tol=1e-2, learning_rate='optimal'))\n",
    "\n",
    "# Fit inicial dos parâmetros\n",
    "reg = reg.fit(X_test, y_test)\n",
    "\n",
    "# Prevendo vendas\n",
    "y_pred = reg.predict(X_test)"
   ]
  },
  {
   "cell_type": "code",
   "execution_count": 24,
   "metadata": {},
   "outputs": [
    {
     "data": {
      "image/png": "[encoded data removed]",
      "text/plain": [
       "<Figure size 1600x1000 with 1 Axes>"
      ]
     },
     "metadata": {},
     "output_type": "display_data"
    }
   ],
   "source": [
    "# PLottando resultados\n",
    "df_test['Weekly_Sales_Pred'] = y_pred\n",
    "df_plot = df_test[['Date', 'Weekly_Sales', 'Weekly_Sales_Pred']].groupby(['Date']).sum().reset_index()\n",
    "\n",
    "# Plot predict e verdadeiro\n",
    "plt.figure(figsize=(16,10))\n",
    "plt.ylim(10000000, 60000000)\n",
    "\n",
    "plt.plot(df_plot.Date, df_plot.Weekly_Sales, label = \"Actual\")\n",
    "plt.plot(df_plot.Date, df_plot.Weekly_Sales_Pred, label = \"Predicted\")\n",
    "\n",
    "plt.legend()\n",
    "plt.show()"
   ]
  },
  {
   "cell_type": "code",
   "execution_count": 25,
   "metadata": {},
   "outputs": [
    {
     "data": {
      "text/plain": [
       "0.07584826990244586"
      ]
     },
     "execution_count": 25,
     "metadata": {},
     "output_type": "execute_result"
    }
   ],
   "source": [
    "reg.score(X_train, y_train)"
   ]
  },
  {
   "cell_type": "markdown",
   "metadata": {},
   "source": [
    "-------------------------------------------------------"
   ]
  },
  {
   "cell_type": "markdown",
   "metadata": {},
   "source": [
    "### Modelo Escolhido: Regressão Linear"
   ]
  },
  {
   "cell_type": "code",
   "execution_count": 26,
   "metadata": {},
   "outputs": [
    {
     "data": {
      "text/html": [
       "<div>\n",
       "<style scoped>\n",
       "    .dataframe tbody tr th:only-of-type {\n",
       "        vertical-align: middle;\n",
       "    }\n",
       "\n",
       "    .dataframe tbody tr th {\n",
       "        vertical-align: top;\n",
       "    }\n",
       "\n",
       "    .dataframe thead th {\n",
       "        text-align: right;\n",
       "    }\n",
       "</style>\n",
       "<table border=\"1\" class=\"dataframe\">\n",
       "  <thead>\n",
       "    <tr style=\"text-align: right;\">\n",
       "      <th></th>\n",
       "      <th>Date</th>\n",
       "      <th>IsHoliday</th>\n",
       "      <th>Store</th>\n",
       "      <th>Size</th>\n",
       "      <th>Dept</th>\n",
       "      <th>MarkDown5</th>\n",
       "      <th>Weekly_Sales</th>\n",
       "      <th>day_of_year</th>\n",
       "      <th>day_circle_x</th>\n",
       "      <th>day_circle_y</th>\n",
       "      <th>Month</th>\n",
       "      <th>Week</th>\n",
       "    </tr>\n",
       "  </thead>\n",
       "  <tbody>\n",
       "    <tr>\n",
       "      <th>0</th>\n",
       "      <td>2010-02-05</td>\n",
       "      <td>0</td>\n",
       "      <td>1</td>\n",
       "      <td>151315</td>\n",
       "      <td>1</td>\n",
       "      <td>0.00</td>\n",
       "      <td>24924.50</td>\n",
       "      <td>36</td>\n",
       "      <td>0.814292</td>\n",
       "      <td>0.580455</td>\n",
       "      <td>2</td>\n",
       "      <td>5</td>\n",
       "    </tr>\n",
       "    <tr>\n",
       "      <th>1</th>\n",
       "      <td>2010-02-05</td>\n",
       "      <td>0</td>\n",
       "      <td>1</td>\n",
       "      <td>151315</td>\n",
       "      <td>2</td>\n",
       "      <td>0.00</td>\n",
       "      <td>50605.27</td>\n",
       "      <td>36</td>\n",
       "      <td>0.814292</td>\n",
       "      <td>0.580455</td>\n",
       "      <td>2</td>\n",
       "      <td>5</td>\n",
       "    </tr>\n",
       "    <tr>\n",
       "      <th>2</th>\n",
       "      <td>2010-02-05</td>\n",
       "      <td>0</td>\n",
       "      <td>1</td>\n",
       "      <td>151315</td>\n",
       "      <td>3</td>\n",
       "      <td>0.00</td>\n",
       "      <td>13740.12</td>\n",
       "      <td>36</td>\n",
       "      <td>0.814292</td>\n",
       "      <td>0.580455</td>\n",
       "      <td>2</td>\n",
       "      <td>5</td>\n",
       "    </tr>\n",
       "    <tr>\n",
       "      <th>3</th>\n",
       "      <td>2010-02-05</td>\n",
       "      <td>0</td>\n",
       "      <td>1</td>\n",
       "      <td>151315</td>\n",
       "      <td>4</td>\n",
       "      <td>0.00</td>\n",
       "      <td>39954.04</td>\n",
       "      <td>36</td>\n",
       "      <td>0.814292</td>\n",
       "      <td>0.580455</td>\n",
       "      <td>2</td>\n",
       "      <td>5</td>\n",
       "    </tr>\n",
       "    <tr>\n",
       "      <th>4</th>\n",
       "      <td>2010-02-05</td>\n",
       "      <td>0</td>\n",
       "      <td>1</td>\n",
       "      <td>151315</td>\n",
       "      <td>5</td>\n",
       "      <td>0.00</td>\n",
       "      <td>32229.38</td>\n",
       "      <td>36</td>\n",
       "      <td>0.814292</td>\n",
       "      <td>0.580455</td>\n",
       "      <td>2</td>\n",
       "      <td>5</td>\n",
       "    </tr>\n",
       "    <tr>\n",
       "      <th>...</th>\n",
       "      <td>...</td>\n",
       "      <td>...</td>\n",
       "      <td>...</td>\n",
       "      <td>...</td>\n",
       "      <td>...</td>\n",
       "      <td>...</td>\n",
       "      <td>...</td>\n",
       "      <td>...</td>\n",
       "      <td>...</td>\n",
       "      <td>...</td>\n",
       "      <td>...</td>\n",
       "      <td>...</td>\n",
       "    </tr>\n",
       "    <tr>\n",
       "      <th>421565</th>\n",
       "      <td>2012-10-26</td>\n",
       "      <td>0</td>\n",
       "      <td>45</td>\n",
       "      <td>118221</td>\n",
       "      <td>93</td>\n",
       "      <td>858.33</td>\n",
       "      <td>2487.80</td>\n",
       "      <td>300</td>\n",
       "      <td>0.433469</td>\n",
       "      <td>-0.901169</td>\n",
       "      <td>10</td>\n",
       "      <td>43</td>\n",
       "    </tr>\n",
       "    <tr>\n",
       "      <th>421566</th>\n",
       "      <td>2012-10-26</td>\n",
       "      <td>0</td>\n",
       "      <td>45</td>\n",
       "      <td>118221</td>\n",
       "      <td>94</td>\n",
       "      <td>858.33</td>\n",
       "      <td>5203.31</td>\n",
       "      <td>300</td>\n",
       "      <td>0.433469</td>\n",
       "      <td>-0.901169</td>\n",
       "      <td>10</td>\n",
       "      <td>43</td>\n",
       "    </tr>\n",
       "    <tr>\n",
       "      <th>421567</th>\n",
       "      <td>2012-10-26</td>\n",
       "      <td>0</td>\n",
       "      <td>45</td>\n",
       "      <td>118221</td>\n",
       "      <td>95</td>\n",
       "      <td>858.33</td>\n",
       "      <td>56017.47</td>\n",
       "      <td>300</td>\n",
       "      <td>0.433469</td>\n",
       "      <td>-0.901169</td>\n",
       "      <td>10</td>\n",
       "      <td>43</td>\n",
       "    </tr>\n",
       "    <tr>\n",
       "      <th>421568</th>\n",
       "      <td>2012-10-26</td>\n",
       "      <td>0</td>\n",
       "      <td>45</td>\n",
       "      <td>118221</td>\n",
       "      <td>97</td>\n",
       "      <td>858.33</td>\n",
       "      <td>6817.48</td>\n",
       "      <td>300</td>\n",
       "      <td>0.433469</td>\n",
       "      <td>-0.901169</td>\n",
       "      <td>10</td>\n",
       "      <td>43</td>\n",
       "    </tr>\n",
       "    <tr>\n",
       "      <th>421569</th>\n",
       "      <td>2012-10-26</td>\n",
       "      <td>0</td>\n",
       "      <td>45</td>\n",
       "      <td>118221</td>\n",
       "      <td>98</td>\n",
       "      <td>858.33</td>\n",
       "      <td>1076.80</td>\n",
       "      <td>300</td>\n",
       "      <td>0.433469</td>\n",
       "      <td>-0.901169</td>\n",
       "      <td>10</td>\n",
       "      <td>43</td>\n",
       "    </tr>\n",
       "  </tbody>\n",
       "</table>\n",
       "<p>421570 rows × 12 columns</p>\n",
       "</div>"
      ],
      "text/plain": [
       "             Date  IsHoliday  Store    Size  Dept  MarkDown5  Weekly_Sales  \\\n",
       "0      2010-02-05          0      1  151315     1       0.00      24924.50   \n",
       "1      2010-02-05          0      1  151315     2       0.00      50605.27   \n",
       "2      2010-02-05          0      1  151315     3       0.00      13740.12   \n",
       "3      2010-02-05          0      1  151315     4       0.00      39954.04   \n",
       "4      2010-02-05          0      1  151315     5       0.00      32229.38   \n",
       "...           ...        ...    ...     ...   ...        ...           ...   \n",
       "421565 2012-10-26          0     45  118221    93     858.33       2487.80   \n",
       "421566 2012-10-26          0     45  118221    94     858.33       5203.31   \n",
       "421567 2012-10-26          0     45  118221    95     858.33      56017.47   \n",
       "421568 2012-10-26          0     45  118221    97     858.33       6817.48   \n",
       "421569 2012-10-26          0     45  118221    98     858.33       1076.80   \n",
       "\n",
       "        day_of_year  day_circle_x  day_circle_y  Month  Week  \n",
       "0                36      0.814292      0.580455      2     5  \n",
       "1                36      0.814292      0.580455      2     5  \n",
       "2                36      0.814292      0.580455      2     5  \n",
       "3                36      0.814292      0.580455      2     5  \n",
       "4                36      0.814292      0.580455      2     5  \n",
       "...             ...           ...           ...    ...   ...  \n",
       "421565          300      0.433469     -0.901169     10    43  \n",
       "421566          300      0.433469     -0.901169     10    43  \n",
       "421567          300      0.433469     -0.901169     10    43  \n",
       "421568          300      0.433469     -0.901169     10    43  \n",
       "421569          300      0.433469     -0.901169     10    43  \n",
       "\n",
       "[421570 rows x 12 columns]"
      ]
     },
     "execution_count": 26,
     "metadata": {},
     "output_type": "execute_result"
    }
   ],
   "source": [
    "df_model"
   ]
  },
  {
   "cell_type": "code",
   "execution_count": 27,
   "metadata": {},
   "outputs": [],
   "source": [
    "# Treinando modelo sobre o dataset base\n",
    "X_train = df_model[['day_of_year', 'IsHoliday', 'Store', 'Size', 'Dept']]\n",
    "y_train = df_model.Weekly_Sales"
   ]
  },
  {
   "cell_type": "code",
   "execution_count": 28,
   "metadata": {},
   "outputs": [],
   "source": [
    "# Iniciando modelo\n",
    "reg = LinearRegression().fit(X_train, y_train)"
   ]
  },
  {
   "cell_type": "code",
   "execution_count": 29,
   "metadata": {},
   "outputs": [
    {
     "data": {
      "text/plain": [
       "0.08445325976736706"
      ]
     },
     "execution_count": 29,
     "metadata": {},
     "output_type": "execute_result"
    }
   ],
   "source": [
    "reg.score(X_train, y_train)"
   ]
  },
  {
   "cell_type": "code",
   "execution_count": 30,
   "metadata": {},
   "outputs": [
    {
     "data": {
      "text/html": [
       "<div>\n",
       "<style scoped>\n",
       "    .dataframe tbody tr th:only-of-type {\n",
       "        vertical-align: middle;\n",
       "    }\n",
       "\n",
       "    .dataframe tbody tr th {\n",
       "        vertical-align: top;\n",
       "    }\n",
       "\n",
       "    .dataframe thead th {\n",
       "        text-align: right;\n",
       "    }\n",
       "</style>\n",
       "<table border=\"1\" class=\"dataframe\">\n",
       "  <thead>\n",
       "    <tr style=\"text-align: right;\">\n",
       "      <th></th>\n",
       "      <th>Store</th>\n",
       "      <th>Dept</th>\n",
       "      <th>Date</th>\n",
       "      <th>IsHoliday</th>\n",
       "      <th>Size</th>\n",
       "      <th>day_of_year</th>\n",
       "    </tr>\n",
       "  </thead>\n",
       "  <tbody>\n",
       "    <tr>\n",
       "      <th>0</th>\n",
       "      <td>1</td>\n",
       "      <td>1</td>\n",
       "      <td>2012-11-02</td>\n",
       "      <td>False</td>\n",
       "      <td>151315</td>\n",
       "      <td>307</td>\n",
       "    </tr>\n",
       "    <tr>\n",
       "      <th>1</th>\n",
       "      <td>1</td>\n",
       "      <td>1</td>\n",
       "      <td>2012-11-09</td>\n",
       "      <td>False</td>\n",
       "      <td>151315</td>\n",
       "      <td>314</td>\n",
       "    </tr>\n",
       "    <tr>\n",
       "      <th>2</th>\n",
       "      <td>1</td>\n",
       "      <td>1</td>\n",
       "      <td>2012-11-16</td>\n",
       "      <td>False</td>\n",
       "      <td>151315</td>\n",
       "      <td>321</td>\n",
       "    </tr>\n",
       "    <tr>\n",
       "      <th>3</th>\n",
       "      <td>1</td>\n",
       "      <td>1</td>\n",
       "      <td>2012-11-23</td>\n",
       "      <td>True</td>\n",
       "      <td>151315</td>\n",
       "      <td>328</td>\n",
       "    </tr>\n",
       "    <tr>\n",
       "      <th>4</th>\n",
       "      <td>1</td>\n",
       "      <td>1</td>\n",
       "      <td>2012-11-30</td>\n",
       "      <td>False</td>\n",
       "      <td>151315</td>\n",
       "      <td>335</td>\n",
       "    </tr>\n",
       "    <tr>\n",
       "      <th>5</th>\n",
       "      <td>1</td>\n",
       "      <td>1</td>\n",
       "      <td>2012-12-07</td>\n",
       "      <td>False</td>\n",
       "      <td>151315</td>\n",
       "      <td>342</td>\n",
       "    </tr>\n",
       "    <tr>\n",
       "      <th>6</th>\n",
       "      <td>1</td>\n",
       "      <td>1</td>\n",
       "      <td>2012-12-14</td>\n",
       "      <td>False</td>\n",
       "      <td>151315</td>\n",
       "      <td>349</td>\n",
       "    </tr>\n",
       "    <tr>\n",
       "      <th>7</th>\n",
       "      <td>1</td>\n",
       "      <td>1</td>\n",
       "      <td>2012-12-21</td>\n",
       "      <td>False</td>\n",
       "      <td>151315</td>\n",
       "      <td>356</td>\n",
       "    </tr>\n",
       "    <tr>\n",
       "      <th>8</th>\n",
       "      <td>1</td>\n",
       "      <td>1</td>\n",
       "      <td>2012-12-28</td>\n",
       "      <td>True</td>\n",
       "      <td>151315</td>\n",
       "      <td>363</td>\n",
       "    </tr>\n",
       "    <tr>\n",
       "      <th>9</th>\n",
       "      <td>1</td>\n",
       "      <td>1</td>\n",
       "      <td>2013-01-04</td>\n",
       "      <td>False</td>\n",
       "      <td>151315</td>\n",
       "      <td>4</td>\n",
       "    </tr>\n",
       "  </tbody>\n",
       "</table>\n",
       "</div>"
      ],
      "text/plain": [
       "   Store  Dept       Date  IsHoliday    Size  day_of_year\n",
       "0      1     1 2012-11-02      False  151315          307\n",
       "1      1     1 2012-11-09      False  151315          314\n",
       "2      1     1 2012-11-16      False  151315          321\n",
       "3      1     1 2012-11-23       True  151315          328\n",
       "4      1     1 2012-11-30      False  151315          335\n",
       "5      1     1 2012-12-07      False  151315          342\n",
       "6      1     1 2012-12-14      False  151315          349\n",
       "7      1     1 2012-12-21      False  151315          356\n",
       "8      1     1 2012-12-28       True  151315          363\n",
       "9      1     1 2013-01-04      False  151315            4"
      ]
     },
     "execution_count": 30,
     "metadata": {},
     "output_type": "execute_result"
    }
   ],
   "source": [
    "# Pegando dataset a ser previsto\n",
    "df_test = pd.read_csv('../data/raw/test.csv')\n",
    "\n",
    "# Cruzando com demais informações das bases raw\n",
    "df_stores = pd.read_csv('../data/raw/stores.csv')\n",
    "df_test = df_test.merge(df_stores.drop(columns=['Type']), how='left', on=['Store'])\n",
    "\n",
    "# Adicionando feature extra de dia do ano\n",
    "df_test['Date'] = pd.to_datetime(df_test['Date'])\n",
    "df_test['day_of_year'] = df_test.apply(lambda row: row['Date'].timetuple().tm_yday, axis=1)\n",
    "\n",
    "# Display\n",
    "df_test.head(10)"
   ]
  },
  {
   "cell_type": "code",
   "execution_count": 36,
   "metadata": {},
   "outputs": [
    {
     "data": {
      "text/html": [
       "<div>\n",
       "<style scoped>\n",
       "    .dataframe tbody tr th:only-of-type {\n",
       "        vertical-align: middle;\n",
       "    }\n",
       "\n",
       "    .dataframe tbody tr th {\n",
       "        vertical-align: top;\n",
       "    }\n",
       "\n",
       "    .dataframe thead th {\n",
       "        text-align: right;\n",
       "    }\n",
       "</style>\n",
       "<table border=\"1\" class=\"dataframe\">\n",
       "  <thead>\n",
       "    <tr style=\"text-align: right;\">\n",
       "      <th></th>\n",
       "      <th>Date</th>\n",
       "      <th>IsHoliday</th>\n",
       "      <th>Store</th>\n",
       "      <th>Size</th>\n",
       "      <th>Dept</th>\n",
       "      <th>MarkDown5</th>\n",
       "      <th>Weekly_Sales</th>\n",
       "      <th>day_of_year</th>\n",
       "      <th>day_circle_x</th>\n",
       "      <th>day_circle_y</th>\n",
       "      <th>Month</th>\n",
       "      <th>Week</th>\n",
       "      <th>Weekly_Sales_pred</th>\n",
       "    </tr>\n",
       "  </thead>\n",
       "  <tbody>\n",
       "    <tr>\n",
       "      <th>0</th>\n",
       "      <td>2010-02-05</td>\n",
       "      <td>0</td>\n",
       "      <td>1</td>\n",
       "      <td>151315</td>\n",
       "      <td>1</td>\n",
       "      <td>0.00</td>\n",
       "      <td>24924.50</td>\n",
       "      <td>36</td>\n",
       "      <td>0.814292</td>\n",
       "      <td>0.580455</td>\n",
       "      <td>2</td>\n",
       "      <td>5</td>\n",
       "      <td>13212.268398</td>\n",
       "    </tr>\n",
       "    <tr>\n",
       "      <th>1</th>\n",
       "      <td>2010-02-05</td>\n",
       "      <td>0</td>\n",
       "      <td>1</td>\n",
       "      <td>151315</td>\n",
       "      <td>2</td>\n",
       "      <td>0.00</td>\n",
       "      <td>50605.27</td>\n",
       "      <td>36</td>\n",
       "      <td>0.814292</td>\n",
       "      <td>0.580455</td>\n",
       "      <td>2</td>\n",
       "      <td>5</td>\n",
       "      <td>13323.840653</td>\n",
       "    </tr>\n",
       "    <tr>\n",
       "      <th>2</th>\n",
       "      <td>2010-02-05</td>\n",
       "      <td>0</td>\n",
       "      <td>1</td>\n",
       "      <td>151315</td>\n",
       "      <td>3</td>\n",
       "      <td>0.00</td>\n",
       "      <td>13740.12</td>\n",
       "      <td>36</td>\n",
       "      <td>0.814292</td>\n",
       "      <td>0.580455</td>\n",
       "      <td>2</td>\n",
       "      <td>5</td>\n",
       "      <td>13435.412909</td>\n",
       "    </tr>\n",
       "    <tr>\n",
       "      <th>3</th>\n",
       "      <td>2010-02-05</td>\n",
       "      <td>0</td>\n",
       "      <td>1</td>\n",
       "      <td>151315</td>\n",
       "      <td>4</td>\n",
       "      <td>0.00</td>\n",
       "      <td>39954.04</td>\n",
       "      <td>36</td>\n",
       "      <td>0.814292</td>\n",
       "      <td>0.580455</td>\n",
       "      <td>2</td>\n",
       "      <td>5</td>\n",
       "      <td>13546.985165</td>\n",
       "    </tr>\n",
       "    <tr>\n",
       "      <th>4</th>\n",
       "      <td>2010-02-05</td>\n",
       "      <td>0</td>\n",
       "      <td>1</td>\n",
       "      <td>151315</td>\n",
       "      <td>5</td>\n",
       "      <td>0.00</td>\n",
       "      <td>32229.38</td>\n",
       "      <td>36</td>\n",
       "      <td>0.814292</td>\n",
       "      <td>0.580455</td>\n",
       "      <td>2</td>\n",
       "      <td>5</td>\n",
       "      <td>13658.557421</td>\n",
       "    </tr>\n",
       "    <tr>\n",
       "      <th>...</th>\n",
       "      <td>...</td>\n",
       "      <td>...</td>\n",
       "      <td>...</td>\n",
       "      <td>...</td>\n",
       "      <td>...</td>\n",
       "      <td>...</td>\n",
       "      <td>...</td>\n",
       "      <td>...</td>\n",
       "      <td>...</td>\n",
       "      <td>...</td>\n",
       "      <td>...</td>\n",
       "      <td>...</td>\n",
       "      <td>...</td>\n",
       "    </tr>\n",
       "    <tr>\n",
       "      <th>421565</th>\n",
       "      <td>2012-10-26</td>\n",
       "      <td>0</td>\n",
       "      <td>45</td>\n",
       "      <td>118221</td>\n",
       "      <td>93</td>\n",
       "      <td>858.33</td>\n",
       "      <td>2487.80</td>\n",
       "      <td>300</td>\n",
       "      <td>0.433469</td>\n",
       "      <td>-0.901169</td>\n",
       "      <td>10</td>\n",
       "      <td>43</td>\n",
       "      <td>18617.469939</td>\n",
       "    </tr>\n",
       "    <tr>\n",
       "      <th>421566</th>\n",
       "      <td>2012-10-26</td>\n",
       "      <td>0</td>\n",
       "      <td>45</td>\n",
       "      <td>118221</td>\n",
       "      <td>94</td>\n",
       "      <td>858.33</td>\n",
       "      <td>5203.31</td>\n",
       "      <td>300</td>\n",
       "      <td>0.433469</td>\n",
       "      <td>-0.901169</td>\n",
       "      <td>10</td>\n",
       "      <td>43</td>\n",
       "      <td>18729.042195</td>\n",
       "    </tr>\n",
       "    <tr>\n",
       "      <th>421567</th>\n",
       "      <td>2012-10-26</td>\n",
       "      <td>0</td>\n",
       "      <td>45</td>\n",
       "      <td>118221</td>\n",
       "      <td>95</td>\n",
       "      <td>858.33</td>\n",
       "      <td>56017.47</td>\n",
       "      <td>300</td>\n",
       "      <td>0.433469</td>\n",
       "      <td>-0.901169</td>\n",
       "      <td>10</td>\n",
       "      <td>43</td>\n",
       "      <td>18840.614450</td>\n",
       "    </tr>\n",
       "    <tr>\n",
       "      <th>421568</th>\n",
       "      <td>2012-10-26</td>\n",
       "      <td>0</td>\n",
       "      <td>45</td>\n",
       "      <td>118221</td>\n",
       "      <td>97</td>\n",
       "      <td>858.33</td>\n",
       "      <td>6817.48</td>\n",
       "      <td>300</td>\n",
       "      <td>0.433469</td>\n",
       "      <td>-0.901169</td>\n",
       "      <td>10</td>\n",
       "      <td>43</td>\n",
       "      <td>19063.758962</td>\n",
       "    </tr>\n",
       "    <tr>\n",
       "      <th>421569</th>\n",
       "      <td>2012-10-26</td>\n",
       "      <td>0</td>\n",
       "      <td>45</td>\n",
       "      <td>118221</td>\n",
       "      <td>98</td>\n",
       "      <td>858.33</td>\n",
       "      <td>1076.80</td>\n",
       "      <td>300</td>\n",
       "      <td>0.433469</td>\n",
       "      <td>-0.901169</td>\n",
       "      <td>10</td>\n",
       "      <td>43</td>\n",
       "      <td>19175.331218</td>\n",
       "    </tr>\n",
       "  </tbody>\n",
       "</table>\n",
       "<p>421570 rows × 13 columns</p>\n",
       "</div>"
      ],
      "text/plain": [
       "             Date  IsHoliday  Store    Size  Dept  MarkDown5  Weekly_Sales  \\\n",
       "0      2010-02-05          0      1  151315     1       0.00      24924.50   \n",
       "1      2010-02-05          0      1  151315     2       0.00      50605.27   \n",
       "2      2010-02-05          0      1  151315     3       0.00      13740.12   \n",
       "3      2010-02-05          0      1  151315     4       0.00      39954.04   \n",
       "4      2010-02-05          0      1  151315     5       0.00      32229.38   \n",
       "...           ...        ...    ...     ...   ...        ...           ...   \n",
       "421565 2012-10-26          0     45  118221    93     858.33       2487.80   \n",
       "421566 2012-10-26          0     45  118221    94     858.33       5203.31   \n",
       "421567 2012-10-26          0     45  118221    95     858.33      56017.47   \n",
       "421568 2012-10-26          0     45  118221    97     858.33       6817.48   \n",
       "421569 2012-10-26          0     45  118221    98     858.33       1076.80   \n",
       "\n",
       "        day_of_year  day_circle_x  day_circle_y  Month  Week  \\\n",
       "0                36      0.814292      0.580455      2     5   \n",
       "1                36      0.814292      0.580455      2     5   \n",
       "2                36      0.814292      0.580455      2     5   \n",
       "3                36      0.814292      0.580455      2     5   \n",
       "4                36      0.814292      0.580455      2     5   \n",
       "...             ...           ...           ...    ...   ...   \n",
       "421565          300      0.433469     -0.901169     10    43   \n",
       "421566          300      0.433469     -0.901169     10    43   \n",
       "421567          300      0.433469     -0.901169     10    43   \n",
       "421568          300      0.433469     -0.901169     10    43   \n",
       "421569          300      0.433469     -0.901169     10    43   \n",
       "\n",
       "        Weekly_Sales_pred  \n",
       "0            13212.268398  \n",
       "1            13323.840653  \n",
       "2            13435.412909  \n",
       "3            13546.985165  \n",
       "4            13658.557421  \n",
       "...                   ...  \n",
       "421565       18617.469939  \n",
       "421566       18729.042195  \n",
       "421567       18840.614450  \n",
       "421568       19063.758962  \n",
       "421569       19175.331218  \n",
       "\n",
       "[421570 rows x 13 columns]"
      ]
     },
     "execution_count": 36,
     "metadata": {},
     "output_type": "execute_result"
    }
   ],
   "source": [
    "# Prevendo\n",
    "y_pred = reg.predict(df_test[['day_of_year', 'IsHoliday', 'Store', 'Size', 'Dept']])\n",
    "\n",
    "# Adicionando ao df original\n",
    "df_test['Weekly_Sales_pred'] = y_pred\n",
    "\n",
    "# Prevendo\n",
    "y_pred_model = reg.predict(df_model[['day_of_year', 'IsHoliday', 'Store', 'Size', 'Dept']])\n",
    "\n",
    "# Adicionando ao df original\n",
    "df_model['Weekly_Sales_pred'] = y_pred_model\n",
    "\n",
    "df_model\n",
    "\n",
    "# df_predicted = pd.concat([df_test,df_train]).drop(columns=['MarkDown5','day_circle_x','day_circle_y','Month', 'Week'])\n",
    "# df_predicted"
   ]
  },
  {
   "cell_type": "code",
   "execution_count": 37,
   "metadata": {},
   "outputs": [],
   "source": [
    "df_model.to_csv('../data/df_predicted.csv', index=False, sep=';')"
   ]
  }
 ],
 "metadata": {
  "kernelspec": {
   "display_name": "Python 3",
   "language": "python",
   "name": "python3"
  },
  "language_info": {
   "codemirror_mode": {
    "name": "ipython",
    "version": 3
   },
   "file_extension": ".py",
   "mimetype": "text/x-python",
   "name": "python",
   "nbconvert_exporter": "python",
   "pygments_lexer": "ipython3",
   "version": "3.10.4"
  },
  "vscode": {
   "interpreter": {
    "hash": "916dbcbb3f70747c44a77c7bcd40155683ae19c65e1c03b4aa3499c5328201f1"
   }
  }
 },
 "nbformat": 4,
 "nbformat_minor": 4
}
