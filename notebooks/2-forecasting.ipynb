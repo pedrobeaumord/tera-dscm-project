{
 "cells": [
  {
   "cell_type": "markdown",
   "metadata": {},
   "source": [
    "# Projeto Final - Tera - Data Science\n",
    "Notebooks destinados ao desenvolvimento do projeto final do treinamento Tera - Data Science\n",
    "## Forecasting\n",
    "1. Objetivo:\n",
    "    1. Prever o desempenho do faturamento por loja para definição do baseline\n",
    "2. Output:\n",
    "    1. DataSet com as previsões de faturamento por loja"
   ]
  },
  {
   "cell_type": "code",
   "execution_count": 45,
   "metadata": {},
   "outputs": [
    {
     "name": "stdout",
     "output_type": "stream",
     "text": [
      "Requirement already satisfied: xgboost in c:\\users\\pedro\\appdata\\local\\programs\\python\\python39\\lib\\site-packages (1.7.3)\n",
      "Requirement already satisfied: numpy in c:\\users\\pedro\\appdata\\local\\programs\\python\\python39\\lib\\site-packages (from xgboost) (1.20.2)\n",
      "Requirement already satisfied: scipy in c:\\users\\pedro\\appdata\\local\\programs\\python\\python39\\lib\\site-packages (from xgboost) (1.7.0)\n"
     ]
    },
    {
     "name": "stderr",
     "output_type": "stream",
     "text": [
      "\n",
      "[notice] A new release of pip available: 22.2.2 -> 22.3.1\n",
      "[notice] To update, run: python.exe -m pip install --upgrade pip\n"
     ]
    }
   ],
   "source": [
    "!pip install xgboost"
   ]
  },
  {
   "cell_type": "code",
   "execution_count": 46,
   "metadata": {},
   "outputs": [
    {
     "name": "stdout",
     "output_type": "stream",
     "text": [
      "xgboost 1.7.3\n"
     ]
    }
   ],
   "source": [
    "# Bibliotecas Padrões\n",
    "import pandas as pd\n",
    "import numpy as np\n",
    "import matplotlib.pyplot as plt\n",
    "import seaborn as sns\n",
    "import datetime\n",
    "\n",
    "# Bibliotecas\n",
    "from sklearn.metrics import mean_squared_error, mean_absolute_error, r2_score\n",
    "import xgboost as xgb\n",
    "from xgboost import XGBRegressor\n",
    "print(\"xgboost\", xgboost.__version__)"
   ]
  },
  {
   "cell_type": "code",
   "execution_count": 47,
   "metadata": {},
   "outputs": [
    {
     "data": {
      "text/html": [
       "<div>\n",
       "<style scoped>\n",
       "    .dataframe tbody tr th:only-of-type {\n",
       "        vertical-align: middle;\n",
       "    }\n",
       "\n",
       "    .dataframe tbody tr th {\n",
       "        vertical-align: top;\n",
       "    }\n",
       "\n",
       "    .dataframe thead th {\n",
       "        text-align: right;\n",
       "    }\n",
       "</style>\n",
       "<table border=\"1\" class=\"dataframe\">\n",
       "  <thead>\n",
       "    <tr style=\"text-align: right;\">\n",
       "      <th></th>\n",
       "      <th>Date</th>\n",
       "      <th>Store</th>\n",
       "      <th>IsHoliday</th>\n",
       "      <th>Weekly_Sales</th>\n",
       "      <th>Temperature</th>\n",
       "      <th>Fuel_Price</th>\n",
       "      <th>Size</th>\n",
       "      <th>Type</th>\n",
       "    </tr>\n",
       "  </thead>\n",
       "  <tbody>\n",
       "    <tr>\n",
       "      <th>0</th>\n",
       "      <td>2010-02-05</td>\n",
       "      <td>1</td>\n",
       "      <td>0</td>\n",
       "      <td>1643690.90</td>\n",
       "      <td>42.31</td>\n",
       "      <td>2.572</td>\n",
       "      <td>151315</td>\n",
       "      <td>3</td>\n",
       "    </tr>\n",
       "    <tr>\n",
       "      <th>1</th>\n",
       "      <td>2010-02-05</td>\n",
       "      <td>2</td>\n",
       "      <td>0</td>\n",
       "      <td>2136989.46</td>\n",
       "      <td>40.19</td>\n",
       "      <td>2.572</td>\n",
       "      <td>202307</td>\n",
       "      <td>3</td>\n",
       "    </tr>\n",
       "    <tr>\n",
       "      <th>2</th>\n",
       "      <td>2010-02-05</td>\n",
       "      <td>3</td>\n",
       "      <td>0</td>\n",
       "      <td>461622.22</td>\n",
       "      <td>45.71</td>\n",
       "      <td>2.572</td>\n",
       "      <td>37392</td>\n",
       "      <td>2</td>\n",
       "    </tr>\n",
       "    <tr>\n",
       "      <th>3</th>\n",
       "      <td>2010-02-05</td>\n",
       "      <td>4</td>\n",
       "      <td>0</td>\n",
       "      <td>2135143.87</td>\n",
       "      <td>43.76</td>\n",
       "      <td>2.598</td>\n",
       "      <td>205863</td>\n",
       "      <td>3</td>\n",
       "    </tr>\n",
       "    <tr>\n",
       "      <th>4</th>\n",
       "      <td>2010-02-05</td>\n",
       "      <td>5</td>\n",
       "      <td>0</td>\n",
       "      <td>317173.10</td>\n",
       "      <td>39.70</td>\n",
       "      <td>2.572</td>\n",
       "      <td>34875</td>\n",
       "      <td>2</td>\n",
       "    </tr>\n",
       "    <tr>\n",
       "      <th>...</th>\n",
       "      <td>...</td>\n",
       "      <td>...</td>\n",
       "      <td>...</td>\n",
       "      <td>...</td>\n",
       "      <td>...</td>\n",
       "      <td>...</td>\n",
       "      <td>...</td>\n",
       "      <td>...</td>\n",
       "    </tr>\n",
       "    <tr>\n",
       "      <th>6430</th>\n",
       "      <td>2012-10-26</td>\n",
       "      <td>41</td>\n",
       "      <td>0</td>\n",
       "      <td>1316542.59</td>\n",
       "      <td>41.80</td>\n",
       "      <td>3.686</td>\n",
       "      <td>196321</td>\n",
       "      <td>3</td>\n",
       "    </tr>\n",
       "    <tr>\n",
       "      <th>6431</th>\n",
       "      <td>2012-10-26</td>\n",
       "      <td>42</td>\n",
       "      <td>0</td>\n",
       "      <td>514756.08</td>\n",
       "      <td>70.50</td>\n",
       "      <td>4.301</td>\n",
       "      <td>39690</td>\n",
       "      <td>1</td>\n",
       "    </tr>\n",
       "    <tr>\n",
       "      <th>6432</th>\n",
       "      <td>2012-10-26</td>\n",
       "      <td>43</td>\n",
       "      <td>0</td>\n",
       "      <td>587603.55</td>\n",
       "      <td>69.17</td>\n",
       "      <td>3.506</td>\n",
       "      <td>41062</td>\n",
       "      <td>1</td>\n",
       "    </tr>\n",
       "    <tr>\n",
       "      <th>6433</th>\n",
       "      <td>2012-10-26</td>\n",
       "      <td>44</td>\n",
       "      <td>0</td>\n",
       "      <td>361067.07</td>\n",
       "      <td>46.97</td>\n",
       "      <td>3.755</td>\n",
       "      <td>39910</td>\n",
       "      <td>1</td>\n",
       "    </tr>\n",
       "    <tr>\n",
       "      <th>6434</th>\n",
       "      <td>2012-10-26</td>\n",
       "      <td>45</td>\n",
       "      <td>0</td>\n",
       "      <td>760281.43</td>\n",
       "      <td>58.85</td>\n",
       "      <td>3.882</td>\n",
       "      <td>118221</td>\n",
       "      <td>2</td>\n",
       "    </tr>\n",
       "  </tbody>\n",
       "</table>\n",
       "<p>6435 rows × 8 columns</p>\n",
       "</div>"
      ],
      "text/plain": [
       "           Date  Store  IsHoliday  Weekly_Sales  Temperature  Fuel_Price  \\\n",
       "0    2010-02-05      1          0    1643690.90        42.31       2.572   \n",
       "1    2010-02-05      2          0    2136989.46        40.19       2.572   \n",
       "2    2010-02-05      3          0     461622.22        45.71       2.572   \n",
       "3    2010-02-05      4          0    2135143.87        43.76       2.598   \n",
       "4    2010-02-05      5          0     317173.10        39.70       2.572   \n",
       "...         ...    ...        ...           ...          ...         ...   \n",
       "6430 2012-10-26     41          0    1316542.59        41.80       3.686   \n",
       "6431 2012-10-26     42          0     514756.08        70.50       4.301   \n",
       "6432 2012-10-26     43          0     587603.55        69.17       3.506   \n",
       "6433 2012-10-26     44          0     361067.07        46.97       3.755   \n",
       "6434 2012-10-26     45          0     760281.43        58.85       3.882   \n",
       "\n",
       "        Size  Type  \n",
       "0     151315     3  \n",
       "1     202307     3  \n",
       "2      37392     2  \n",
       "3     205863     3  \n",
       "4      34875     2  \n",
       "...      ...   ...  \n",
       "6430  196321     3  \n",
       "6431   39690     1  \n",
       "6432   41062     1  \n",
       "6433   39910     1  \n",
       "6434  118221     2  \n",
       "\n",
       "[6435 rows x 8 columns]"
      ]
     },
     "execution_count": 47,
     "metadata": {},
     "output_type": "execute_result"
    }
   ],
   "source": [
    "df_model = pd.read_csv('../data/intermediate/df_model.csv', sep=';')\n",
    "df_model['Date'] = pd.to_datetime(df_model['Date'])\n",
    "df_model"
   ]
  },
  {
   "cell_type": "code",
   "execution_count": 48,
   "metadata": {},
   "outputs": [],
   "source": [
    "# define model\n",
    "model = XGBRegressor()"
   ]
  },
  {
   "cell_type": "code",
   "execution_count": 49,
   "metadata": {},
   "outputs": [],
   "source": [
    "split_date = '01-01-2012'\n",
    "\n",
    "df_train = df_model[df_model.Date < split_date].copy()\n",
    "df_train['Date'] = pd.to_datetime(df_train['Date'])\n",
    "\n",
    "df_test = df_model[df_model.Date >= split_date].copy()\n",
    "df_test['Date'] = pd.to_datetime(df_test['Date'])"
   ]
  },
  {
   "cell_type": "code",
   "execution_count": 50,
   "metadata": {},
   "outputs": [],
   "source": [
    "def create_features(df, label=None):\n",
    "    \"\"\"\n",
    "    Creates time series features from datetime index\n",
    "    \"\"\"\n",
    "    df['date'] = df.Date\n",
    "    df['hour'] = df['date'].dt.hour\n",
    "    df['dayofweek'] = df['date'].dt.dayofweek\n",
    "    df['quarter'] = df['date'].dt.quarter\n",
    "    df['month'] = df['date'].dt.month\n",
    "    df['year'] = df['date'].dt.year\n",
    "    df['dayofyear'] = df['date'].dt.dayofyear\n",
    "    df['dayofmonth'] = df['date'].dt.day\n",
    "    df['weekofyear'] = df['date'].dt.weekofyear\n",
    "    \n",
    "    X = df[['hour','dayofweek','quarter','month','year',\n",
    "           'dayofyear','dayofmonth','weekofyear']]\n",
    "    if label:\n",
    "        y = df[label]\n",
    "        return X, y\n",
    "    return X"
   ]
  },
  {
   "cell_type": "code",
   "execution_count": 51,
   "metadata": {},
   "outputs": [
    {
     "name": "stderr",
     "output_type": "stream",
     "text": [
      "<ipython-input-50-b0211dbfc50e>:13: FutureWarning: Series.dt.weekofyear and Series.dt.week have been deprecated.  Please use Series.dt.isocalendar().week instead.\n",
      "  df['weekofyear'] = df['date'].dt.weekofyear\n"
     ]
    }
   ],
   "source": [
    "X_train, y_train = create_features(df_train, label='Weekly_Sales')\n",
    "X_test, y_test = create_features(df_test, label='Weekly_Sales')"
   ]
  },
  {
   "cell_type": "code",
   "execution_count": 52,
   "metadata": {},
   "outputs": [
    {
     "name": "stdout",
     "output_type": "stream",
     "text": [
      "[0]\tvalidation_0-rmse:930848.45937\tvalidation_1-rmse:906296.19075\n",
      "[1]\tvalidation_0-rmse:764838.25269\tvalidation_1-rmse:745254.97138\n",
      "[2]\tvalidation_0-rmse:668254.52603\tvalidation_1-rmse:650236.53747\n",
      "[3]\tvalidation_0-rmse:615226.58754\tvalidation_1-rmse:597162.32535\n",
      "[4]\tvalidation_0-rmse:587302.16556\tvalidation_1-rmse:568247.64854\n",
      "[5]\tvalidation_0-rmse:573065.26655\tvalidation_1-rmse:553022.11139\n",
      "[6]\tvalidation_0-rmse:565889.82677\tvalidation_1-rmse:545069.91450\n",
      "[7]\tvalidation_0-rmse:562319.48569\tvalidation_1-rmse:540917.02572\n",
      "[8]\tvalidation_0-rmse:560524.11267\tvalidation_1-rmse:538586.34602\n",
      "[9]\tvalidation_0-rmse:559604.24488\tvalidation_1-rmse:537263.20215\n",
      "[10]\tvalidation_0-rmse:559141.72182\tvalidation_1-rmse:536578.10386\n",
      "[11]\tvalidation_0-rmse:558916.24113\tvalidation_1-rmse:536082.63352\n",
      "[12]\tvalidation_0-rmse:558803.64367\tvalidation_1-rmse:535808.20673\n",
      "[13]\tvalidation_0-rmse:558737.53993\tvalidation_1-rmse:535639.66199\n",
      "[14]\tvalidation_0-rmse:558706.52230\tvalidation_1-rmse:535530.21640\n",
      "[15]\tvalidation_0-rmse:558687.34249\tvalidation_1-rmse:535478.16393\n",
      "[16]\tvalidation_0-rmse:558674.60788\tvalidation_1-rmse:535429.99640\n",
      "[17]\tvalidation_0-rmse:558668.49977\tvalidation_1-rmse:535423.45767\n",
      "[18]\tvalidation_0-rmse:558664.75954\tvalidation_1-rmse:535403.71158\n",
      "[19]\tvalidation_0-rmse:558662.68329\tvalidation_1-rmse:535406.01734\n",
      "[20]\tvalidation_0-rmse:558661.17316\tvalidation_1-rmse:535387.37414\n",
      "[21]\tvalidation_0-rmse:558660.58584\tvalidation_1-rmse:535375.83376\n"
     ]
    },
    {
     "name": "stderr",
     "output_type": "stream",
     "text": [
      "c:\\Users\\Pedro\\AppData\\Local\\Programs\\Python\\Python39\\lib\\site-packages\\xgboost\\sklearn.py:835: UserWarning: `early_stopping_rounds` in `fit` method is deprecated for better compatibility with scikit-learn, use `early_stopping_rounds` in constructor or`set_params` instead.\n",
      "  warnings.warn(\n"
     ]
    },
    {
     "name": "stdout",
     "output_type": "stream",
     "text": [
      "[22]\tvalidation_0-rmse:558659.90755\tvalidation_1-rmse:535373.34556\n",
      "[23]\tvalidation_0-rmse:558659.28900\tvalidation_1-rmse:535374.66424\n",
      "[24]\tvalidation_0-rmse:558659.05448\tvalidation_1-rmse:535373.15312\n",
      "[25]\tvalidation_0-rmse:558658.94791\tvalidation_1-rmse:535375.63935\n",
      "[26]\tvalidation_0-rmse:558658.83652\tvalidation_1-rmse:535375.19435\n",
      "[27]\tvalidation_0-rmse:558658.64381\tvalidation_1-rmse:535378.44683\n",
      "[28]\tvalidation_0-rmse:558658.49445\tvalidation_1-rmse:535380.21014\n",
      "[29]\tvalidation_0-rmse:558658.41720\tvalidation_1-rmse:535382.89531\n",
      "[30]\tvalidation_0-rmse:558658.34217\tvalidation_1-rmse:535385.53669\n",
      "[31]\tvalidation_0-rmse:558658.29447\tvalidation_1-rmse:535386.78378\n",
      "[32]\tvalidation_0-rmse:558658.26473\tvalidation_1-rmse:535387.06986\n",
      "[33]\tvalidation_0-rmse:558658.24486\tvalidation_1-rmse:535387.02581\n",
      "[34]\tvalidation_0-rmse:558658.23264\tvalidation_1-rmse:535389.08699\n",
      "[35]\tvalidation_0-rmse:558658.22002\tvalidation_1-rmse:535390.06352\n",
      "[36]\tvalidation_0-rmse:558658.21189\tvalidation_1-rmse:535390.40464\n",
      "[37]\tvalidation_0-rmse:558658.19932\tvalidation_1-rmse:535390.18358\n",
      "[38]\tvalidation_0-rmse:558658.19106\tvalidation_1-rmse:535390.46737\n",
      "[39]\tvalidation_0-rmse:558658.18668\tvalidation_1-rmse:535390.69526\n",
      "[40]\tvalidation_0-rmse:558658.17968\tvalidation_1-rmse:535390.62637\n",
      "[41]\tvalidation_0-rmse:558658.17693\tvalidation_1-rmse:535391.45720\n",
      "[42]\tvalidation_0-rmse:558658.17506\tvalidation_1-rmse:535391.57518\n",
      "[43]\tvalidation_0-rmse:558658.17363\tvalidation_1-rmse:535392.25156\n",
      "[44]\tvalidation_0-rmse:558658.17068\tvalidation_1-rmse:535392.25530\n",
      "[45]\tvalidation_0-rmse:558658.17049\tvalidation_1-rmse:535392.13656\n",
      "[46]\tvalidation_0-rmse:558658.16799\tvalidation_1-rmse:535392.32209\n",
      "[47]\tvalidation_0-rmse:558658.16706\tvalidation_1-rmse:535392.41500\n",
      "[48]\tvalidation_0-rmse:558658.16544\tvalidation_1-rmse:535392.41831\n",
      "[49]\tvalidation_0-rmse:558658.16443\tvalidation_1-rmse:535392.36052\n",
      "[50]\tvalidation_0-rmse:558658.16408\tvalidation_1-rmse:535392.65842\n",
      "[51]\tvalidation_0-rmse:558658.16348\tvalidation_1-rmse:535392.76976\n",
      "[52]\tvalidation_0-rmse:558658.16295\tvalidation_1-rmse:535392.81298\n",
      "[53]\tvalidation_0-rmse:558658.16272\tvalidation_1-rmse:535393.01514\n",
      "[54]\tvalidation_0-rmse:558658.16281\tvalidation_1-rmse:535392.96838\n",
      "[55]\tvalidation_0-rmse:558658.16290\tvalidation_1-rmse:535392.90844\n",
      "[56]\tvalidation_0-rmse:558658.16216\tvalidation_1-rmse:535393.08737\n",
      "[57]\tvalidation_0-rmse:558658.16270\tvalidation_1-rmse:535393.17613\n",
      "[58]\tvalidation_0-rmse:558658.16240\tvalidation_1-rmse:535393.18667\n",
      "[59]\tvalidation_0-rmse:558658.16261\tvalidation_1-rmse:535393.20912\n",
      "[60]\tvalidation_0-rmse:558658.16207\tvalidation_1-rmse:535393.22718\n",
      "[61]\tvalidation_0-rmse:558658.16199\tvalidation_1-rmse:535393.28113\n",
      "[62]\tvalidation_0-rmse:558658.16287\tvalidation_1-rmse:535393.31743\n",
      "[63]\tvalidation_0-rmse:558658.16272\tvalidation_1-rmse:535393.39171\n",
      "[64]\tvalidation_0-rmse:558658.16193\tvalidation_1-rmse:535393.36675\n",
      "[65]\tvalidation_0-rmse:558658.16218\tvalidation_1-rmse:535393.38608\n",
      "[66]\tvalidation_0-rmse:558658.16221\tvalidation_1-rmse:535393.38764\n",
      "[67]\tvalidation_0-rmse:558658.16203\tvalidation_1-rmse:535393.38129\n",
      "[68]\tvalidation_0-rmse:558658.16259\tvalidation_1-rmse:535393.36931\n",
      "[69]\tvalidation_0-rmse:558658.16190\tvalidation_1-rmse:535393.36671\n",
      "[70]\tvalidation_0-rmse:558658.16212\tvalidation_1-rmse:535393.40198\n",
      "[71]\tvalidation_0-rmse:558658.16202\tvalidation_1-rmse:535393.40492\n",
      "[72]\tvalidation_0-rmse:558658.16191\tvalidation_1-rmse:535393.40824\n",
      "[73]\tvalidation_0-rmse:558658.16178\tvalidation_1-rmse:535393.40845\n"
     ]
    },
    {
     "data": {
      "text/html": [
       "<style>#sk-container-id-5 {color: black;background-color: white;}#sk-container-id-5 pre{padding: 0;}#sk-container-id-5 div.sk-toggleable {background-color: white;}#sk-container-id-5 label.sk-toggleable__label {cursor: pointer;display: block;width: 100%;margin-bottom: 0;padding: 0.3em;box-sizing: border-box;text-align: center;}#sk-container-id-5 label.sk-toggleable__label-arrow:before {content: \"▸\";float: left;margin-right: 0.25em;color: #696969;}#sk-container-id-5 label.sk-toggleable__label-arrow:hover:before {color: black;}#sk-container-id-5 div.sk-estimator:hover label.sk-toggleable__label-arrow:before {color: black;}#sk-container-id-5 div.sk-toggleable__content {max-height: 0;max-width: 0;overflow: hidden;text-align: left;background-color: #f0f8ff;}#sk-container-id-5 div.sk-toggleable__content pre {margin: 0.2em;color: black;border-radius: 0.25em;background-color: #f0f8ff;}#sk-container-id-5 input.sk-toggleable__control:checked~div.sk-toggleable__content {max-height: 200px;max-width: 100%;overflow: auto;}#sk-container-id-5 input.sk-toggleable__control:checked~label.sk-toggleable__label-arrow:before {content: \"▾\";}#sk-container-id-5 div.sk-estimator input.sk-toggleable__control:checked~label.sk-toggleable__label {background-color: #d4ebff;}#sk-container-id-5 div.sk-label input.sk-toggleable__control:checked~label.sk-toggleable__label {background-color: #d4ebff;}#sk-container-id-5 input.sk-hidden--visually {border: 0;clip: rect(1px 1px 1px 1px);clip: rect(1px, 1px, 1px, 1px);height: 1px;margin: -1px;overflow: hidden;padding: 0;position: absolute;width: 1px;}#sk-container-id-5 div.sk-estimator {font-family: monospace;background-color: #f0f8ff;border: 1px dotted black;border-radius: 0.25em;box-sizing: border-box;margin-bottom: 0.5em;}#sk-container-id-5 div.sk-estimator:hover {background-color: #d4ebff;}#sk-container-id-5 div.sk-parallel-item::after {content: \"\";width: 100%;border-bottom: 1px solid gray;flex-grow: 1;}#sk-container-id-5 div.sk-label:hover label.sk-toggleable__label {background-color: #d4ebff;}#sk-container-id-5 div.sk-serial::before {content: \"\";position: absolute;border-left: 1px solid gray;box-sizing: border-box;top: 0;bottom: 0;left: 50%;z-index: 0;}#sk-container-id-5 div.sk-serial {display: flex;flex-direction: column;align-items: center;background-color: white;padding-right: 0.2em;padding-left: 0.2em;position: relative;}#sk-container-id-5 div.sk-item {position: relative;z-index: 1;}#sk-container-id-5 div.sk-parallel {display: flex;align-items: stretch;justify-content: center;background-color: white;position: relative;}#sk-container-id-5 div.sk-item::before, #sk-container-id-5 div.sk-parallel-item::before {content: \"\";position: absolute;border-left: 1px solid gray;box-sizing: border-box;top: 0;bottom: 0;left: 50%;z-index: -1;}#sk-container-id-5 div.sk-parallel-item {display: flex;flex-direction: column;z-index: 1;position: relative;background-color: white;}#sk-container-id-5 div.sk-parallel-item:first-child::after {align-self: flex-end;width: 50%;}#sk-container-id-5 div.sk-parallel-item:last-child::after {align-self: flex-start;width: 50%;}#sk-container-id-5 div.sk-parallel-item:only-child::after {width: 0;}#sk-container-id-5 div.sk-dashed-wrapped {border: 1px dashed gray;margin: 0 0.4em 0.5em 0.4em;box-sizing: border-box;padding-bottom: 0.4em;background-color: white;}#sk-container-id-5 div.sk-label label {font-family: monospace;font-weight: bold;display: inline-block;line-height: 1.2em;}#sk-container-id-5 div.sk-label-container {text-align: center;}#sk-container-id-5 div.sk-container {/* jupyter's `normalize.less` sets `[hidden] { display: none; }` but bootstrap.min.css set `[hidden] { display: none !important; }` so we also need the `!important` here to be able to override the default hidden behavior on the sphinx rendered scikit-learn.org. See: https://github.com/scikit-learn/scikit-learn/issues/21755 */display: inline-block !important;position: relative;}#sk-container-id-5 div.sk-text-repr-fallback {display: none;}</style><div id=\"sk-container-id-5\" class=\"sk-top-container\"><div class=\"sk-text-repr-fallback\"><pre>XGBRegressor(base_score=None, booster=None, callbacks=None,\n",
       "             colsample_bylevel=None, colsample_bynode=None,\n",
       "             colsample_bytree=None, early_stopping_rounds=None,\n",
       "             enable_categorical=False, eval_metric=None, feature_types=None,\n",
       "             gamma=None, gpu_id=None, grow_policy=None, importance_type=None,\n",
       "             interaction_constraints=None, learning_rate=None, max_bin=None,\n",
       "             max_cat_threshold=None, max_cat_to_onehot=None,\n",
       "             max_delta_step=None, max_depth=None, max_leaves=None,\n",
       "             min_child_weight=None, missing=nan, monotone_constraints=None,\n",
       "             n_estimators=10000, n_jobs=None, num_parallel_tree=None,\n",
       "             predictor=None, random_state=None, ...)</pre><b>In a Jupyter environment, please rerun this cell to show the HTML representation or trust the notebook. <br />On GitHub, the HTML representation is unable to render, please try loading this page with nbviewer.org.</b></div><div class=\"sk-container\" hidden><div class=\"sk-item\"><div class=\"sk-estimator sk-toggleable\"><input class=\"sk-toggleable__control sk-hidden--visually\" id=\"sk-estimator-id-5\" type=\"checkbox\" checked><label for=\"sk-estimator-id-5\" class=\"sk-toggleable__label sk-toggleable__label-arrow\">XGBRegressor</label><div class=\"sk-toggleable__content\"><pre>XGBRegressor(base_score=None, booster=None, callbacks=None,\n",
       "             colsample_bylevel=None, colsample_bynode=None,\n",
       "             colsample_bytree=None, early_stopping_rounds=None,\n",
       "             enable_categorical=False, eval_metric=None, feature_types=None,\n",
       "             gamma=None, gpu_id=None, grow_policy=None, importance_type=None,\n",
       "             interaction_constraints=None, learning_rate=None, max_bin=None,\n",
       "             max_cat_threshold=None, max_cat_to_onehot=None,\n",
       "             max_delta_step=None, max_depth=None, max_leaves=None,\n",
       "             min_child_weight=None, missing=nan, monotone_constraints=None,\n",
       "             n_estimators=10000, n_jobs=None, num_parallel_tree=None,\n",
       "             predictor=None, random_state=None, ...)</pre></div></div></div></div></div>"
      ],
      "text/plain": [
       "XGBRegressor(base_score=None, booster=None, callbacks=None,\n",
       "             colsample_bylevel=None, colsample_bynode=None,\n",
       "             colsample_bytree=None, early_stopping_rounds=None,\n",
       "             enable_categorical=False, eval_metric=None, feature_types=None,\n",
       "             gamma=None, gpu_id=None, grow_policy=None, importance_type=None,\n",
       "             interaction_constraints=None, learning_rate=None, max_bin=None,\n",
       "             max_cat_threshold=None, max_cat_to_onehot=None,\n",
       "             max_delta_step=None, max_depth=None, max_leaves=None,\n",
       "             min_child_weight=None, missing=nan, monotone_constraints=None,\n",
       "             n_estimators=10000, n_jobs=None, num_parallel_tree=None,\n",
       "             predictor=None, random_state=None, ...)"
      ]
     },
     "execution_count": 52,
     "metadata": {},
     "output_type": "execute_result"
    }
   ],
   "source": [
    "reg = xgb.XGBRegressor(n_estimators=10000)\n",
    "reg.fit(X_train, y_train,\n",
    "        eval_set=[(X_train, y_train), (X_test, y_test)],\n",
    "        early_stopping_rounds=50,\n",
    "       verbose=True)"
   ]
  },
  {
   "cell_type": "code",
   "execution_count": 53,
   "metadata": {},
   "outputs": [
    {
     "data": {
      "image/png": "[encoded data removed]",
      "text/plain": [
       "<Figure size 432x288 with 1 Axes>"
      ]
     },
     "metadata": {
      "needs_background": "light"
     },
     "output_type": "display_data"
    }
   ],
   "source": [
    "_ = xgb.plot_importance(reg, height=0.9)"
   ]
  },
  {
   "cell_type": "code",
   "execution_count": 54,
   "metadata": {},
   "outputs": [],
   "source": [
    "df_test['Weekly_Sales_Predicted'] = reg.predict(X_test)\n",
    "df_all = pd.concat([df_test, df_train], sort=False)"
   ]
  },
  {
   "cell_type": "code",
   "execution_count": 55,
   "metadata": {},
   "outputs": [
    {
     "data": {
      "image/png": "[encoded data removed]",
      "text/plain": [
       "<Figure size 1080x360 with 1 Axes>"
      ]
     },
     "metadata": {
      "needs_background": "light"
     },
     "output_type": "display_data"
    }
   ],
   "source": [
    "_ = df_all[['Weekly_Sales','Weekly_Sales_Predicted']].plot(figsize=(15, 5))"
   ]
  },
  {
   "cell_type": "code",
   "execution_count": 56,
   "metadata": {},
   "outputs": [
    {
     "data": {
      "image/png": "[encoded data removed]",
      "text/plain": [
       "<Figure size 1080x360 with 1 Axes>"
      ]
     },
     "metadata": {
      "needs_background": "light"
     },
     "output_type": "display_data"
    }
   ],
   "source": [
    "# Plot the forecast with the actuals\n",
    "f, ax = plt.subplots(1)\n",
    "f.set_figheight(5)\n",
    "f.set_figwidth(15)\n",
    "_ = df_all[['Weekly_Sales','Weekly_Sales_Predicted']].plot(ax=ax,\n",
    "                                              style=['-','.'])\n",
    "ax.set_xbound(lower='01-01-2012', upper='01-02-2012')\n",
    "#ax.set_ylim(0, 60000)\n",
    "plot = plt.suptitle('Forecast vs Actuals')"
   ]
  },
  {
   "cell_type": "code",
   "execution_count": 57,
   "metadata": {},
   "outputs": [
    {
     "data": {
      "text/plain": [
       "286624411775.5044"
      ]
     },
     "execution_count": 57,
     "metadata": {},
     "output_type": "execute_result"
    }
   ],
   "source": [
    "mean_squared_error(y_true=df_test['Weekly_Sales'],\n",
    "                   y_pred=df_test['Weekly_Sales_Predicted'])"
   ]
  },
  {
   "cell_type": "code",
   "execution_count": 58,
   "metadata": {},
   "outputs": [
    {
     "data": {
      "text/plain": [
       "450157.8406860465"
      ]
     },
     "execution_count": 58,
     "metadata": {},
     "output_type": "execute_result"
    }
   ],
   "source": [
    "mean_absolute_error(y_true=df_test['Weekly_Sales'],\n",
    "                   y_pred=df_test['Weekly_Sales_Predicted'])"
   ]
  },
  {
   "cell_type": "code",
   "execution_count": 59,
   "metadata": {},
   "outputs": [
    {
     "data": {
      "text/plain": [
       "0.004251145904118014"
      ]
     },
     "execution_count": 59,
     "metadata": {},
     "output_type": "execute_result"
    }
   ],
   "source": [
    "r2_score(y_true=df_test['Weekly_Sales'],\n",
    "                   y_pred=df_test['Weekly_Sales_Predicted'])"
   ]
  },
  {
   "cell_type": "code",
   "execution_count": 60,
   "metadata": {},
   "outputs": [
    {
     "data": {
      "text/html": [
       "<div>\n",
       "<style scoped>\n",
       "    .dataframe tbody tr th:only-of-type {\n",
       "        vertical-align: middle;\n",
       "    }\n",
       "\n",
       "    .dataframe tbody tr th {\n",
       "        vertical-align: top;\n",
       "    }\n",
       "\n",
       "    .dataframe thead th {\n",
       "        text-align: right;\n",
       "    }\n",
       "</style>\n",
       "<table border=\"1\" class=\"dataframe\">\n",
       "  <thead>\n",
       "    <tr style=\"text-align: right;\">\n",
       "      <th></th>\n",
       "      <th>Date</th>\n",
       "      <th>Store</th>\n",
       "      <th>IsHoliday</th>\n",
       "      <th>Weekly_Sales</th>\n",
       "      <th>Temperature</th>\n",
       "      <th>Fuel_Price</th>\n",
       "      <th>Size</th>\n",
       "      <th>Type</th>\n",
       "      <th>date</th>\n",
       "      <th>hour</th>\n",
       "      <th>dayofweek</th>\n",
       "      <th>quarter</th>\n",
       "      <th>month</th>\n",
       "      <th>year</th>\n",
       "      <th>dayofyear</th>\n",
       "      <th>dayofmonth</th>\n",
       "      <th>weekofyear</th>\n",
       "      <th>Weekly_Sales_Predicted</th>\n",
       "    </tr>\n",
       "  </thead>\n",
       "  <tbody>\n",
       "    <tr>\n",
       "      <th>4500</th>\n",
       "      <td>2012-01-06</td>\n",
       "      <td>1</td>\n",
       "      <td>0</td>\n",
       "      <td>1550369.92</td>\n",
       "      <td>49.01</td>\n",
       "      <td>3.157</td>\n",
       "      <td>151315</td>\n",
       "      <td>3</td>\n",
       "      <td>2012-01-06</td>\n",
       "      <td>0</td>\n",
       "      <td>4</td>\n",
       "      <td>1</td>\n",
       "      <td>1</td>\n",
       "      <td>2012</td>\n",
       "      <td>6</td>\n",
       "      <td>6</td>\n",
       "      <td>1</td>\n",
       "      <td>950371.5</td>\n",
       "    </tr>\n",
       "    <tr>\n",
       "      <th>4501</th>\n",
       "      <td>2012-01-06</td>\n",
       "      <td>2</td>\n",
       "      <td>0</td>\n",
       "      <td>1799520.14</td>\n",
       "      <td>46.75</td>\n",
       "      <td>3.157</td>\n",
       "      <td>202307</td>\n",
       "      <td>3</td>\n",
       "      <td>2012-01-06</td>\n",
       "      <td>0</td>\n",
       "      <td>4</td>\n",
       "      <td>1</td>\n",
       "      <td>1</td>\n",
       "      <td>2012</td>\n",
       "      <td>6</td>\n",
       "      <td>6</td>\n",
       "      <td>1</td>\n",
       "      <td>950371.5</td>\n",
       "    </tr>\n",
       "    <tr>\n",
       "      <th>4502</th>\n",
       "      <td>2012-01-06</td>\n",
       "      <td>3</td>\n",
       "      <td>0</td>\n",
       "      <td>398178.21</td>\n",
       "      <td>52.42</td>\n",
       "      <td>3.157</td>\n",
       "      <td>37392</td>\n",
       "      <td>2</td>\n",
       "      <td>2012-01-06</td>\n",
       "      <td>0</td>\n",
       "      <td>4</td>\n",
       "      <td>1</td>\n",
       "      <td>1</td>\n",
       "      <td>2012</td>\n",
       "      <td>6</td>\n",
       "      <td>6</td>\n",
       "      <td>1</td>\n",
       "      <td>950371.5</td>\n",
       "    </tr>\n",
       "    <tr>\n",
       "      <th>4503</th>\n",
       "      <td>2012-01-06</td>\n",
       "      <td>4</td>\n",
       "      <td>0</td>\n",
       "      <td>2047766.07</td>\n",
       "      <td>38.64</td>\n",
       "      <td>3.158</td>\n",
       "      <td>205863</td>\n",
       "      <td>3</td>\n",
       "      <td>2012-01-06</td>\n",
       "      <td>0</td>\n",
       "      <td>4</td>\n",
       "      <td>1</td>\n",
       "      <td>1</td>\n",
       "      <td>2012</td>\n",
       "      <td>6</td>\n",
       "      <td>6</td>\n",
       "      <td>1</td>\n",
       "      <td>950371.5</td>\n",
       "    </tr>\n",
       "    <tr>\n",
       "      <th>4504</th>\n",
       "      <td>2012-01-06</td>\n",
       "      <td>5</td>\n",
       "      <td>0</td>\n",
       "      <td>312078.71</td>\n",
       "      <td>50.21</td>\n",
       "      <td>3.157</td>\n",
       "      <td>34875</td>\n",
       "      <td>2</td>\n",
       "      <td>2012-01-06</td>\n",
       "      <td>0</td>\n",
       "      <td>4</td>\n",
       "      <td>1</td>\n",
       "      <td>1</td>\n",
       "      <td>2012</td>\n",
       "      <td>6</td>\n",
       "      <td>6</td>\n",
       "      <td>1</td>\n",
       "      <td>950371.5</td>\n",
       "    </tr>\n",
       "    <tr>\n",
       "      <th>...</th>\n",
       "      <td>...</td>\n",
       "      <td>...</td>\n",
       "      <td>...</td>\n",
       "      <td>...</td>\n",
       "      <td>...</td>\n",
       "      <td>...</td>\n",
       "      <td>...</td>\n",
       "      <td>...</td>\n",
       "      <td>...</td>\n",
       "      <td>...</td>\n",
       "      <td>...</td>\n",
       "      <td>...</td>\n",
       "      <td>...</td>\n",
       "      <td>...</td>\n",
       "      <td>...</td>\n",
       "      <td>...</td>\n",
       "      <td>...</td>\n",
       "      <td>...</td>\n",
       "    </tr>\n",
       "    <tr>\n",
       "      <th>4495</th>\n",
       "      <td>2011-12-30</td>\n",
       "      <td>41</td>\n",
       "      <td>1</td>\n",
       "      <td>1264014.16</td>\n",
       "      <td>34.12</td>\n",
       "      <td>3.119</td>\n",
       "      <td>196321</td>\n",
       "      <td>3</td>\n",
       "      <td>2011-12-30</td>\n",
       "      <td>0</td>\n",
       "      <td>4</td>\n",
       "      <td>4</td>\n",
       "      <td>12</td>\n",
       "      <td>2011</td>\n",
       "      <td>364</td>\n",
       "      <td>30</td>\n",
       "      <td>52</td>\n",
       "      <td>NaN</td>\n",
       "    </tr>\n",
       "    <tr>\n",
       "      <th>4496</th>\n",
       "      <td>2011-12-30</td>\n",
       "      <td>42</td>\n",
       "      <td>1</td>\n",
       "      <td>454412.28</td>\n",
       "      <td>48.92</td>\n",
       "      <td>3.428</td>\n",
       "      <td>39690</td>\n",
       "      <td>1</td>\n",
       "      <td>2011-12-30</td>\n",
       "      <td>0</td>\n",
       "      <td>4</td>\n",
       "      <td>4</td>\n",
       "      <td>12</td>\n",
       "      <td>2011</td>\n",
       "      <td>364</td>\n",
       "      <td>30</td>\n",
       "      <td>52</td>\n",
       "      <td>NaN</td>\n",
       "    </tr>\n",
       "    <tr>\n",
       "      <th>4497</th>\n",
       "      <td>2011-12-30</td>\n",
       "      <td>43</td>\n",
       "      <td>1</td>\n",
       "      <td>505405.85</td>\n",
       "      <td>41.83</td>\n",
       "      <td>3.129</td>\n",
       "      <td>41062</td>\n",
       "      <td>1</td>\n",
       "      <td>2011-12-30</td>\n",
       "      <td>0</td>\n",
       "      <td>4</td>\n",
       "      <td>4</td>\n",
       "      <td>12</td>\n",
       "      <td>2011</td>\n",
       "      <td>364</td>\n",
       "      <td>30</td>\n",
       "      <td>52</td>\n",
       "      <td>NaN</td>\n",
       "    </tr>\n",
       "    <tr>\n",
       "      <th>4498</th>\n",
       "      <td>2011-12-30</td>\n",
       "      <td>44</td>\n",
       "      <td>1</td>\n",
       "      <td>263917.85</td>\n",
       "      <td>31.53</td>\n",
       "      <td>3.119</td>\n",
       "      <td>39910</td>\n",
       "      <td>1</td>\n",
       "      <td>2011-12-30</td>\n",
       "      <td>0</td>\n",
       "      <td>4</td>\n",
       "      <td>4</td>\n",
       "      <td>12</td>\n",
       "      <td>2011</td>\n",
       "      <td>364</td>\n",
       "      <td>30</td>\n",
       "      <td>52</td>\n",
       "      <td>NaN</td>\n",
       "    </tr>\n",
       "    <tr>\n",
       "      <th>4499</th>\n",
       "      <td>2011-12-30</td>\n",
       "      <td>45</td>\n",
       "      <td>1</td>\n",
       "      <td>869403.63</td>\n",
       "      <td>37.79</td>\n",
       "      <td>3.389</td>\n",
       "      <td>118221</td>\n",
       "      <td>2</td>\n",
       "      <td>2011-12-30</td>\n",
       "      <td>0</td>\n",
       "      <td>4</td>\n",
       "      <td>4</td>\n",
       "      <td>12</td>\n",
       "      <td>2011</td>\n",
       "      <td>364</td>\n",
       "      <td>30</td>\n",
       "      <td>52</td>\n",
       "      <td>NaN</td>\n",
       "    </tr>\n",
       "  </tbody>\n",
       "</table>\n",
       "<p>6435 rows × 18 columns</p>\n",
       "</div>"
      ],
      "text/plain": [
       "           Date  Store  IsHoliday  Weekly_Sales  Temperature  Fuel_Price  \\\n",
       "4500 2012-01-06      1          0    1550369.92        49.01       3.157   \n",
       "4501 2012-01-06      2          0    1799520.14        46.75       3.157   \n",
       "4502 2012-01-06      3          0     398178.21        52.42       3.157   \n",
       "4503 2012-01-06      4          0    2047766.07        38.64       3.158   \n",
       "4504 2012-01-06      5          0     312078.71        50.21       3.157   \n",
       "...         ...    ...        ...           ...          ...         ...   \n",
       "4495 2011-12-30     41          1    1264014.16        34.12       3.119   \n",
       "4496 2011-12-30     42          1     454412.28        48.92       3.428   \n",
       "4497 2011-12-30     43          1     505405.85        41.83       3.129   \n",
       "4498 2011-12-30     44          1     263917.85        31.53       3.119   \n",
       "4499 2011-12-30     45          1     869403.63        37.79       3.389   \n",
       "\n",
       "        Size  Type       date  hour  dayofweek  quarter  month  year  \\\n",
       "4500  151315     3 2012-01-06     0          4        1      1  2012   \n",
       "4501  202307     3 2012-01-06     0          4        1      1  2012   \n",
       "4502   37392     2 2012-01-06     0          4        1      1  2012   \n",
       "4503  205863     3 2012-01-06     0          4        1      1  2012   \n",
       "4504   34875     2 2012-01-06     0          4        1      1  2012   \n",
       "...      ...   ...        ...   ...        ...      ...    ...   ...   \n",
       "4495  196321     3 2011-12-30     0          4        4     12  2011   \n",
       "4496   39690     1 2011-12-30     0          4        4     12  2011   \n",
       "4497   41062     1 2011-12-30     0          4        4     12  2011   \n",
       "4498   39910     1 2011-12-30     0          4        4     12  2011   \n",
       "4499  118221     2 2011-12-30     0          4        4     12  2011   \n",
       "\n",
       "      dayofyear  dayofmonth  weekofyear  Weekly_Sales_Predicted  \n",
       "4500          6           6           1                950371.5  \n",
       "4501          6           6           1                950371.5  \n",
       "4502          6           6           1                950371.5  \n",
       "4503          6           6           1                950371.5  \n",
       "4504          6           6           1                950371.5  \n",
       "...         ...         ...         ...                     ...  \n",
       "4495        364          30          52                     NaN  \n",
       "4496        364          30          52                     NaN  \n",
       "4497        364          30          52                     NaN  \n",
       "4498        364          30          52                     NaN  \n",
       "4499        364          30          52                     NaN  \n",
       "\n",
       "[6435 rows x 18 columns]"
      ]
     },
     "execution_count": 60,
     "metadata": {},
     "output_type": "execute_result"
    }
   ],
   "source": [
    "df_all"
   ]
  },
  {
   "cell_type": "code",
   "execution_count": 61,
   "metadata": {},
   "outputs": [],
   "source": [
    "df_all.to_csv('../data/processed/df_predicted.csv', index=False, sep=';')"
   ]
  }
 ],
 "metadata": {
  "kernelspec": {
   "display_name": "Python 3.9.0 64-bit",
   "language": "python",
   "name": "python3"
  },
  "language_info": {
   "codemirror_mode": {
    "name": "ipython",
    "version": 3
   },
   "file_extension": ".py",
   "mimetype": "text/x-python",
   "name": "python",
   "nbconvert_exporter": "python",
   "pygments_lexer": "ipython3",
   "version": "3.9.0"
  },
  "orig_nbformat": 4,
  "vscode": {
   "interpreter": {
    "hash": "ecc01959a3fa6e370fa1785e6cca03f3405a3d40925e8097c2a14ac91635be9e"
   }
  }
 },
 "nbformat": 4,
 "nbformat_minor": 2
}
