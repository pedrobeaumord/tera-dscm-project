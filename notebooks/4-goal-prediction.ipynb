{
 "cells": [
  {
   "cell_type": "markdown",
   "metadata": {},
   "source": [
    "# Projeto Final - Tera - Data Science\n",
    "Notebooks destinados ao desenvolvimento do projeto final do treinamento Tera - Data Science\n",
    "## Definições das Metas\n",
    "1. Objetivo:\n",
    "    1. Calcular a captura das lacunas\n",
    "    2. Prever as metas a serem estabelecidas\n",
    "    3. Definir as metas\n",
    "2. Output:\n",
    "    1. DataSet com as metas mensais loja a loja"
   ]
  },
  {
   "cell_type": "code",
   "execution_count": null,
   "metadata": {},
   "outputs": [],
   "source": [
    "# Bibliotecas Padrões\n",
    "import pandas as pd\n",
    "import numpy as np\n",
    "import matplotlib.pyplot as plt\n",
    "import seaborn as sns\n",
    "import datetime"
   ]
  }
 ],
 "metadata": {
  "kernelspec": {
   "display_name": "Python 3.9.0 64-bit",
   "language": "python",
   "name": "python3"
  },
  "language_info": {
   "name": "python",
   "version": "3.9.0"
  },
  "orig_nbformat": 4,
  "vscode": {
   "interpreter": {
    "hash": "ecc01959a3fa6e370fa1785e6cca03f3405a3d40925e8097c2a14ac91635be9e"
   }
  }
 },
 "nbformat": 4,
 "nbformat_minor": 2
}
